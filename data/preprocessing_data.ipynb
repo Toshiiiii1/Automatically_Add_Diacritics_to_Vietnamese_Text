{
 "cells": [
  {
   "cell_type": "code",
   "execution_count": 100,
   "metadata": {},
   "outputs": [],
   "source": [
    "import numpy as np\n",
    "import pandas as pd\n",
    "from unidecode import unidecode\n",
    "import re\n",
    "from sklearn.datasets import load_files\n",
    "import string\n",
    "from underthesea import sent_tokenize\n",
    "import unicodedata"
   ]
  },
  {
   "cell_type": "markdown",
   "metadata": {},
   "source": [
    "Chuyển từng câu thành cặp có dấu - không dấu, lưu vào file .csv"
   ]
  },
  {
   "cell_type": "code",
   "execution_count": 106,
   "metadata": {},
   "outputs": [],
   "source": [
    "# bỏ đi số và dấu trong câu\n",
    "def remove_punctuation_and_number(text):\n",
    "    text = re.sub(r\"[^a-zA-ZàáảãạâầấẩẫậăằắẳẵặèéẻẽẹêềếểễệđìíỉĩịòóỏõọôồốổỗộơờớởỡợùúủũụưừứửữựỳýỷỹỵÀÁẢÃẠÂẦẤẨẪẬĂẰẮẲẴẶÈÉẺẼẸÊỀẾỂỄỆĐÌÍỈĨỊÒÓỎÕỌÔỒỐỔỖỘƠỜỚỞỠỢÙÚỦŨỤƯỪỨỬỮỰỲÝỶỸỴÂĂĐÔƠƯ ]\", \" \", text)\n",
    "    text = re.sub(r'\\s+', \" \", text)\n",
    "    return text\n",
    "\n",
    "def preprocess_text(path):\n",
    "    df = load_files(f\"./{path}\", encoding='utf-8')\n",
    "\n",
    "    \"\"\"\n",
    "        - punctuation_sentences: tập các câu có dấu\n",
    "        - non_punctuation_sentences: tập các câu không dấu\n",
    "    \"\"\"\n",
    "    punctuation_sentences, non_punctuation_sentences = [], []\n",
    "    for paragraph in df.data:\n",
    "        # chuẩn hóa unicode\n",
    "        paragraph = unicodedata.normalize(\"NFC\", paragraph)\n",
    "        # tách các câu trong bài báo\n",
    "        sentences = sent_tokenize(paragraph)\n",
    "        # chuyển câu sang lower case, bỏ đi khoảng trắng đầu, bỏ đi các dấu câu\n",
    "        sentences = [remove_punctuation_and_number(sentence).lower().replace(\"nlđo\", \"\").strip(\" \") for sentence in sentences]\n",
    "        # bỏ đi các dấu thanh, chuyển từ câu có dấu -> câu không dấu\n",
    "        new_sentences = [unidecode(sentence) for sentence in sentences]\n",
    "\n",
    "        punctuation_sentences.extend(sentences)\n",
    "        non_punctuation_sentences.extend(new_sentences)\n",
    "    \n",
    "    new_df = pd.DataFrame({'content1': non_punctuation_sentences, 'content2': punctuation_sentences})\n",
    "    new_df.drop_duplicates(inplace=True)\n",
    "    new_df.dropna(inplace=True)\n",
    "    new_df.to_csv(f\"{path}2.csv\", encoding=\"utf-8\", index=False)"
   ]
  },
  {
   "cell_type": "code",
   "execution_count": 107,
   "metadata": {},
   "outputs": [],
   "source": [
    "preprocess_text(\"train_set\")\n",
    "preprocess_text(\"val_set\")\n",
    "preprocess_text(\"test_set\")"
   ]
  },
  {
   "cell_type": "code",
   "execution_count": 108,
   "metadata": {},
   "outputs": [],
   "source": [
    "train_set = pd.read_csv(\"./train_set2.csv\").astype(\"str\")\n",
    "test_set = pd.read_csv(\"./test_set2.csv\").astype(\"str\")\n",
    "val_set = pd.read_csv(\"./val_set2.csv\").astype(\"str\")"
   ]
  },
  {
   "cell_type": "code",
   "execution_count": 110,
   "metadata": {},
   "outputs": [
    {
     "name": "stdout",
     "output_type": "stream",
     "text": [
      "85631\n",
      "1126\n",
      "1140\n",
      "87897\n"
     ]
    }
   ],
   "source": [
    "print(len(train_set))\n",
    "print(len(val_set))\n",
    "print(len(test_set))\n",
    "print(len(train_set) + len(val_set) + len(test_set))"
   ]
  },
  {
   "cell_type": "code",
   "execution_count": 15,
   "metadata": {},
   "outputs": [
    {
     "name": "stdout",
     "output_type": "stream",
     "text": [
      "6548\n"
     ]
    }
   ],
   "source": [
    "train = load_files(\"./train_set\", encoding=\"utf-8\")\n",
    "test = load_files(\"./test_set\", encoding=\"utf-8\")\n",
    "val = load_files(\"./val_set\", encoding=\"utf-8\")\n",
    "\n",
    "print(len(train.data) + len(test.data) + len(val.data))"
   ]
  }
 ],
 "metadata": {
  "kernelspec": {
   "display_name": "vm",
   "language": "python",
   "name": "python3"
  },
  "language_info": {
   "codemirror_mode": {
    "name": "ipython",
    "version": 3
   },
   "file_extension": ".py",
   "mimetype": "text/x-python",
   "name": "python",
   "nbconvert_exporter": "python",
   "pygments_lexer": "ipython3",
   "version": "3.11.8"
  }
 },
 "nbformat": 4,
 "nbformat_minor": 2
}
