{
 "cells": [
  {
   "cell_type": "code",
   "execution_count": 1,
   "metadata": {},
   "outputs": [],
   "source": [
    "import numpy as np\n",
    "import pandas as pd\n",
    "from unidecode import unidecode\n",
    "import re\n",
    "from sklearn.datasets import load_files\n",
    "import string\n",
    "from underthesea import sent_tokenize\n",
    "import unicodedata"
   ]
  },
  {
   "cell_type": "markdown",
   "metadata": {},
   "source": [
    "Chuyển từng câu thành cặp có dấu - không dấu, lưu vào file .csv"
   ]
  },
  {
   "cell_type": "code",
   "execution_count": null,
   "metadata": {},
   "outputs": [],
   "source": [
    "def preprocess_text(path):\n",
    "    # đọc dữ liệu\n",
    "    df = load_files(f\"./{path}\", encoding='utf-8')\n",
    "\n",
    "    \"\"\"\n",
    "        - accented_sentences: tập các câu có dấu\n",
    "        - unaccented_sentences: tập các câu không dấu\n",
    "    \"\"\"\n",
    "    accented_sentences, unaccented_sentences = [], []\n",
    "    for paragraph in df.data:\n",
    "        # chuẩn hóa unicode\n",
    "        paragraph = unicodedata.normalize(\"NFC\", paragraph)\n",
    "        \n",
    "        # tách các câu trong bài báo\n",
    "        sentences = sent_tokenize(paragraph)\n",
    "        \n",
    "        # bỏ đi những khoảng trắng thừa\n",
    "        sentences = [re.sub(r'\\s+', \" \", sentence) for sentence in sentences]\n",
    "        \n",
    "        # chuyển từ câu có dấu -> câu không dấu\n",
    "        new_sentences = [unidecode(sentence) for sentence in sentences]\n",
    "\n",
    "        accented_sentences.extend(sentences)\n",
    "        unaccented_sentences.extend(new_sentences)\n",
    "    \n",
    "    # lưu các câu không dấu - có dấu vào data frame\n",
    "    new_df = pd.DataFrame({'unaccented_sentences': unaccented_sentences, 'accented_sentences': accented_sentences})\n",
    "    \n",
    "    # bỏ đi những câu trùng nhau\n",
    "    new_df.drop_duplicates(inplace=True)\n",
    "    \n",
    "    # chọn ra những câu có hơn 5 từ\n",
    "    new_df['word_count'] = new_df['unaccented_sentences'].apply(lambda x: len(str(x).split()))\n",
    "    new_df = new_df[new_df['word_count'] > 5]\n",
    "    new_df = new_df.drop(columns=[\"word_count\"])\n",
    "    \n",
    "    # lưu vào file .csv\n",
    "    new_df.to_csv(f\"{path}2.csv\", encoding=\"utf-8\", index=False)"
   ]
  },
  {
   "cell_type": "markdown",
   "metadata": {},
   "source": [
    "Tiền xử lý cho tập train, val và test"
   ]
  },
  {
   "cell_type": "code",
   "execution_count": null,
   "metadata": {},
   "outputs": [],
   "source": [
    "preprocess_text(\"train_set\")\n",
    "preprocess_text(\"val_set\")\n",
    "preprocess_text(\"test_set\")"
   ]
  },
  {
   "cell_type": "code",
   "execution_count": 6,
   "metadata": {},
   "outputs": [],
   "source": [
    "train_set = pd.read_csv(\"./train_set2.csv\").astype(\"str\")\n",
    "test_set = pd.read_csv(\"./test_set2.csv\").astype(\"str\")\n",
    "val_set = pd.read_csv(\"./val_set2.csv\").astype(\"str\")"
   ]
  },
  {
   "cell_type": "markdown",
   "metadata": {},
   "source": [
    "Liệt kê số cặp câu trong mỗi tập và tổng số cặp câu"
   ]
  },
  {
   "cell_type": "code",
   "execution_count": 7,
   "metadata": {},
   "outputs": [
    {
     "name": "stdout",
     "output_type": "stream",
     "text": [
      "153218\n",
      "6542\n",
      "24881\n",
      "184641\n"
     ]
    }
   ],
   "source": [
    "print(len(train_set))\n",
    "print(len(val_set))\n",
    "print(len(test_set))\n",
    "print(len(train_set) + len(val_set) + len(test_set))"
   ]
  },
  {
   "cell_type": "markdown",
   "metadata": {},
   "source": [
    "Liệt kê số bài báo của mỗi tập dữ liệu và tổng số bài báo"
   ]
  },
  {
   "cell_type": "code",
   "execution_count": null,
   "metadata": {},
   "outputs": [],
   "source": [
    "train = load_files(\"./train_set\", encoding=\"utf-8\")\n",
    "test = load_files(\"./test_set\", encoding=\"utf-8\")\n",
    "val = load_files(\"./val_set\", encoding=\"utf-8\")\n",
    "\n",
    "print(len(train.data))\n",
    "print(len(test.data))\n",
    "print(len(val.data))\n",
    "print(len(train.data) + len(test.data) + len(val.data))"
   ]
  },
  {
   "cell_type": "code",
   "execution_count": null,
   "metadata": {},
   "outputs": [],
   "source": [
    "words_column_A = val_set[\"unaccented_sentences\"].tolist()\n",
    "words_column_B = val_set[\"accented_sentences\"].tolist()"
   ]
  },
  {
   "cell_type": "code",
   "execution_count": null,
   "metadata": {},
   "outputs": [],
   "source": [
    "temp = []\n",
    "\n",
    "for i in words_column_A:\n",
    "    temp.extend(i.split())\n",
    "print(set(temp))"
   ]
  }
 ],
 "metadata": {
  "kernelspec": {
   "display_name": "vm",
   "language": "python",
   "name": "python3"
  },
  "language_info": {
   "codemirror_mode": {
    "name": "ipython",
    "version": 3
   },
   "file_extension": ".py",
   "mimetype": "text/x-python",
   "name": "python",
   "nbconvert_exporter": "python",
   "pygments_lexer": "ipython3",
   "version": "3.11.8"
  }
 },
 "nbformat": 4,
 "nbformat_minor": 2
}
