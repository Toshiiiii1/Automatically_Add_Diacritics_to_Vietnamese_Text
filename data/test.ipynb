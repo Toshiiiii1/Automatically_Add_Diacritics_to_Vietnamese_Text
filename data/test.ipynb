{
 "cells": [
  {
   "cell_type": "code",
   "execution_count": 1,
   "metadata": {},
   "outputs": [],
   "source": [
    "from bs4 import BeautifulSoup\n",
    "from pandas import json_normalize\n",
    "import requests\n",
    "import feedparser\n",
    "import os"
   ]
  },
  {
   "cell_type": "code",
   "execution_count": 1,
   "metadata": {},
   "outputs": [],
   "source": [
    "from bs4 import BeautifulSoup\n",
    "from selenium import webdriver\n",
    "import time\n",
    "\n",
    "# Initialize WebDriver\n",
    "driver = webdriver.Chrome()  # You should replace this with the appropriate web driver you're using (Chrome, Firefox, etc.)\n",
    "\n",
    "# Open the URL of the webpage\n",
    "url = \"https://vnexpress.net/the-thao/marathon\"\n",
    "driver.get(url)\n",
    "\n",
    "# Automatically scroll the page\n",
    "scroll_pause_time = 4  # Pause between each scroll\n",
    "last_height = driver.execute_script(\"return document.body.scrollHeight\")  # Browser window height\n",
    "i = 1\n",
    "while True:\n",
    "    # Scroll down\n",
    "    driver.execute_script(f\"window.scrollTo(0, {last_height * i});\")\n",
    "    i += 1\n",
    "    time.sleep(scroll_pause_time)\n",
    "\n",
    "    # Check if reaching the end of the page\n",
    "    new_height = driver.execute_script(\"return document.body.scrollHeight\")\n",
    "    if new_height == last_height:\n",
    "        break\n",
    "    last_height = new_height\n",
    "\n",
    "# Fetch the data using BeautifulSoup after all data is loaded\n",
    "soup = BeautifulSoup(driver.page_source, \"html.parser\")\n",
    "# Process and save the data as needed\n",
    "\n",
    "# url = soup.find_all(\"a\", \"box-category-link-title\")\n",
    "url = soup.find_all(\"h2\", \"title-news\")\n",
    "\n",
    "# Close the WebDriver session\n",
    "driver.quit()"
   ]
  },
  {
   "cell_type": "code",
   "execution_count": 12,
   "metadata": {},
   "outputs": [
    {
     "name": "stdout",
     "output_type": "stream",
     "text": [
      "['https://vnexpress.net/the-thao/marathon-p1https://vnexpress.net/the-thao/cac-mon-khac-p1', 'https://vnexpress.net/the-thao/marathon-p2https://vnexpress.net/the-thao/cac-mon-khac-p2', 'https://vnexpress.net/the-thao/marathon-p3https://vnexpress.net/the-thao/cac-mon-khac-p3', 'https://vnexpress.net/the-thao/marathon-p4https://vnexpress.net/the-thao/cac-mon-khac-p4', 'https://vnexpress.net/the-thao/marathon-p5https://vnexpress.net/the-thao/cac-mon-khac-p5', 'https://vnexpress.net/the-thao/marathon-p6https://vnexpress.net/the-thao/cac-mon-khac-p6', 'https://vnexpress.net/the-thao/marathon-p7https://vnexpress.net/the-thao/cac-mon-khac-p7', 'https://vnexpress.net/the-thao/marathon-p8https://vnexpress.net/the-thao/cac-mon-khac-p8', 'https://vnexpress.net/the-thao/marathon-p9https://vnexpress.net/the-thao/cac-mon-khac-p9', 'https://vnexpress.net/the-thao/marathon-p10https://vnexpress.net/the-thao/cac-mon-khac-p10', 'https://vnexpress.net/the-thao/marathon-p11https://vnexpress.net/the-thao/cac-mon-khac-p11', 'https://vnexpress.net/the-thao/marathon-p12https://vnexpress.net/the-thao/cac-mon-khac-p12', 'https://vnexpress.net/the-thao/marathon-p13https://vnexpress.net/the-thao/cac-mon-khac-p13', 'https://vnexpress.net/the-thao/marathon-p14https://vnexpress.net/the-thao/cac-mon-khac-p14', 'https://vnexpress.net/the-thao/marathon-p15https://vnexpress.net/the-thao/cac-mon-khac-p15', 'https://vnexpress.net/the-thao/marathon-p16https://vnexpress.net/the-thao/cac-mon-khac-p16', 'https://vnexpress.net/the-thao/marathon-p17https://vnexpress.net/the-thao/cac-mon-khac-p17', 'https://vnexpress.net/the-thao/marathon-p18https://vnexpress.net/the-thao/cac-mon-khac-p18', 'https://vnexpress.net/the-thao/marathon-p19https://vnexpress.net/the-thao/cac-mon-khac-p19', 'https://vnexpress.net/the-thao/marathon-p20https://vnexpress.net/the-thao/cac-mon-khac-p20']\n"
     ]
    }
   ],
   "source": []
  },
  {
   "cell_type": "code",
   "execution_count": 2,
   "metadata": {},
   "outputs": [
    {
     "name": "stdout",
     "output_type": "stream",
     "text": [
      "10\n"
     ]
    }
   ],
   "source": [
    "print(len(url))"
   ]
  },
  {
   "cell_type": "code",
   "execution_count": 3,
   "metadata": {},
   "outputs": [
    {
     "name": "stdout",
     "output_type": "stream",
     "text": [
      "https://vnexpress.net/kiptum-duoc-chon-cat-trong-khuon-vien-gia-dinh-4712799.html\n",
      "https://vnexpress.net/giai-chay-dem-tp-hcm-2024-ra-mat-ao-dau-ao-finisher-4712244.html\n",
      "https://vnexpress.net/runner-tap-chay-dai-the-nao-cho-cu-ly-half-marathon-4712502.html\n",
      "https://vnexpress.net/khoanh-khac-truoc-khi-kiptum-tu-nan-4712354.html\n",
      "https://vnexpress.net/nhung-cai-chet-gay-chan-dong-dien-kinh-kenya-4711601.html\n",
      "https://vnexpress.net/bon-cu-ly-giai-chay-dem-tp-hcm-2024-dat-chuan-quoc-te-4711677.html\n",
      "https://vnexpress.net/vnexpress-marathon-2024-uu-dai-15-dip-nam-moi-4711671.html\n",
      "https://vnexpress.net/bat-4-ke-la-mat-tim-kiptum-truoc-vu-tai-nan-4711781.html\n",
      "https://vnexpress.net/tang-le-kiptum-dien-ra-ngay-24-2-4711694.html\n",
      "https://vnexpress.net/kiptum-da-thang-tien-nhanh-the-nao-4711536.html\n"
     ]
    }
   ],
   "source": [
    "for i in url:\n",
    "    print(i.find(\"a\")[\"href\"])"
   ]
  },
  {
   "cell_type": "code",
   "execution_count": 4,
   "metadata": {},
   "outputs": [],
   "source": [
    "def get_news_content(url, tag, tag_class):\n",
    "    \n",
    "    result = \"\"\n",
    "    res = requests.get(url)\n",
    "    soup = BeautifulSoup(res.content, \"html.parser\")\n",
    "    div = soup.find(tag, tag_class)\n",
    "    if div is None:\n",
    "        return \"\"\n",
    "    texts = div.find_all(\"p\")\n",
    "    for text in texts:\n",
    "        result += \" \" + text.get_text()\n",
    "        \n",
    "    return result"
   ]
  },
  {
   "cell_type": "code",
   "execution_count": 5,
   "metadata": {},
   "outputs": [
    {
     "name": "stdout",
     "output_type": "stream",
     "text": [
      "https://thanhnien.vnhttps://thanhnien.vn/ly-do-nguoi-dung-chua-the-tiep-can-sora-ai-185240219083952901.htm\n",
      "https://thanhnien.vnhttps://thanhnien.vn/gpu-geforce-rtx-2080-ti-tu-che-voi-gia-500-usd-tran-ngap-thi-truong-185240217014752825.htm\n",
      "https://thanhnien.vnhttps://thanhnien.vn/thoi-diem-ra-mat-call-of-duty-nam-2024-da-duoc-he-lo-185240216135039335.htm\n",
      "https://thanhnien.vn/768-vdv-tranh-tai-dua-thuyen-rong-tren-song-da-rang-185240216131928052.htm\n",
      "1763\n",
      "https://thanhnien.vn/bao-thanh-nien-gianh-thu-hang-cao-mon-cau-long-giai-hoi-nha-bao-tphcm-185240124143036626.htm\n",
      "1382\n",
      "https://thanhnien.vn/soi-dong-giai-cau-long-phong-trao-thu-hut-gan-100-vdv-185240111165527251.htm\n",
      "1486\n",
      "https://thanhnien.vn/hai-doi-bong-thai-lan-va-malaysia-tham-gia-giai-bong-da-7-nguoi-quoc-te-2024-185240109165926598.htm\n",
      "1986\n",
      "https://thanhnien.vn/giai-bong-da-dac-biet-cua-nguoi-viet-tai-nhat-185231205191105093.htm\n",
      "2197\n",
      "https://thanhnien.vn/dan-sao-cuu-tuyen-thu-phu-song-thf-10-cup-dong-a-thanh-hoa-nam-2023-185231127184530801.htm\n",
      "3501\n",
      "https://thanhnien.vn/khanh-thi-bat-ngo-voi-man-trinh-dien-flashmob-cua-hoc-sinh-thpt-tai-tphcm-185240130104154305.htm\n",
      "4445\n",
      "https://thanhnien.vn/a-hau-truc-linh-duoc-dau-tu-khung-cho-hanh-trinh-chinh-phuc-miss-tourism-world-2023-185231215201804085.htm\n",
      "1820\n",
      "https://thanhnien.vn/pulppy-ky-niem-25-nam-vuon-cao-vuon-xa-su-kien-marathon-cung-nhieu-thong-diep-y-nghia-185231214192138764.htm\n",
      "3990\n",
      "https://thanhnien.vn/du-lich-phu-quoc-ky-vong-gi-tu-ironman-703-185231127152732052.htm\n",
      "4858\n",
      "https://thanhnien.vn/hoang-nguyen-thanh-gianh-chien-thang-o-giai-marathon-binh-phuoc-truong-tuoi-group-18523112613310575.htm\n",
      "https://thanhnien.vn/gan-6000-nguoi-tham-du-giai-marathon-dat-sen-hong-dong-thap-2023-185230912221158951.htm\n",
      "2684\n",
      "https://thanhnien.vn/giai-bong-da-tranh-cup-bao-dai-bieu-nhan-dan-da-tim-ra-nha-vo-dich-185231125182015437.htm\n",
      "2369\n",
      "https://thanhnien.vn/cao-van-trien-ha-duc-chinh-giao-luu-bong-da-voi-cac-cau-thu-nhi-185231124120817767.htm\n",
      "2438\n",
      "https://thanhnien.vn/cao-van-trien-ha-duc-chinh-giao-luu-bong-da-voi-cac-cau-thu-nhi-185231124120817767.htm\n",
      "2438\n",
      "https://thanhnien.vn/11-doi-tham-gia-giai-bong-chuyen-cac-clb-nam-nu-tinh-binh-dinh-185231114103526901.htm\n",
      "1701\n",
      "https://thanhnien.vn/nhung-khoanh-khac-best-in-me-tai-giai-dau-ironman-703-dau-tien-cua-phu-quoc-185231121114400439.htm\n",
      "3439\n",
      "https://thanhnien.vn/lo-dien-nha-vo-dich-day-xung-dang-cua-giai-bong-da-ceo-sg-cup-2023-185231119235921475.htm\n",
      "2419\n",
      "https://thanhnien.vn/giai-bong-da-ceo-sg-cup-2023-hua-hen-kich-tinh-185231111211747646.htm\n",
      "1507\n",
      "https://thanhnien.vn/xac-dinh-2-doi-bong-lot-vao-chung-ket-giai-cac-co-quan-tu-mo-rong-185231119170437138.htm\n",
      "4389\n",
      "https://thanhnien.vn/hon-9000-nguoi-tham-gia-giai-chay-ben-bo-di-san-vinh-ha-long-185231119133311613.htm\n",
      "2159\n",
      "https://thanhnien.vn/hon-9000-nguoi-tham-gia-giai-chay-ben-bo-di-san-vinh-ha-long-185231119133311613.htm\n",
      "2159\n",
      "https://thanhnien.vn/giai-golf-huu-nghi-suntory-pepsico-phat-trien-vi-nhung-dieu-tot-dep-185231118095214487.htm\n",
      "3032\n",
      "https://thanhnien.vn/11-doi-tham-gia-giai-bong-chuyen-cac-clb-nam-nu-tinh-binh-dinh-185231114103526901.htm\n",
      "1701\n",
      "https://thanhnien.vn/xac-dinh-cac-doi-du-vong-chung-ket-giai-bong-chuyen-vo-dich-quoc-gia-2023-185231113063815694.htm\n",
      "1492\n",
      "https://thanhnien.vn/giai-bong-da-ceo-sg-cup-2023-hua-hen-kich-tinh-185231111211747646.htm\n",
      "1507\n",
      "https://thanhnien.vn/hlv-mai-duc-chung-va-thanh-nha-rang-ngoi-tai-su-kien-dac-biet-18523111115363236.htm\n",
      "2357\n",
      "https://thanhnien.vn/hai-phong-hang-nghin-hoc-sinh-sinh-vien-hao-hung-tham-gia-giai-chay-s-race-18523111212183793.htm\n",
      "3774\n",
      "https://thanhnien.vn/s-race-hai-phong-duong-chay-ket-noi-185231112171759823.htm\n",
      "3822\n",
      "https://thanhnien.vn/hlv-mai-duc-chung-va-thanh-nha-rang-ngoi-tai-su-kien-dac-biet-18523111115363236.htm\n"
     ]
    }
   ],
   "source": [
    "news_urls = soup.find_all(\"a\", \"box-category-link-title\")\n",
    "for news_url in news_urls:\n",
    "    print(f\"https://thanhnien.vn{news_url['href']}\")\n",
    "    try:\n",
    "        print(len(get_news_content(f\"https://thanhnien.vn{news_url['href']}\", \"div\", \"detail-content\")))\n",
    "    except:\n",
    "        continue"
   ]
  },
  {
   "cell_type": "code",
   "execution_count": null,
   "metadata": {},
   "outputs": [],
   "source": [
    "res = requests.get(\"https://thanhnien.vn/768-vdv-tranh-tai-dua-thuyen-rong-tren-song-da-rang-185240216131928052.htm\")\n",
    "soup = BeautifulSoup(res.content, \"html.parser\")"
   ]
  },
  {
   "cell_type": "code",
   "execution_count": null,
   "metadata": {},
   "outputs": [],
   "source": [
    "div = soup.find(\"div\", \"detail-content\")\n",
    "texts = div.find_all(\"p\")\n",
    "for text in texts:\n",
    "    print(text.get_text())"
   ]
  }
 ],
 "metadata": {
  "kernelspec": {
   "display_name": "vm",
   "language": "python",
   "name": "python3"
  },
  "language_info": {
   "codemirror_mode": {
    "name": "ipython",
    "version": 3
   },
   "file_extension": ".py",
   "mimetype": "text/x-python",
   "name": "python",
   "nbconvert_exporter": "python",
   "pygments_lexer": "ipython3",
   "version": "3.11.8"
  }
 },
 "nbformat": 4,
 "nbformat_minor": 2
}
