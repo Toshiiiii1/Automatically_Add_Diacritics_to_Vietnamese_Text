{
 "cells": [
  {
   "cell_type": "code",
   "execution_count": 1,
   "metadata": {},
   "outputs": [],
   "source": [
    "from bs4 import BeautifulSoup\n",
    "from pandas import json_normalize\n",
    "import requests\n",
    "import feedparser\n",
    "import os\n",
    "import re"
   ]
  },
  {
   "cell_type": "code",
   "execution_count": 8,
   "metadata": {},
   "outputs": [
    {
     "name": "stdout",
     "output_type": "stream",
     "text": [
      "Tay cơ trẻ Chiêm Hồng Thái đang thi đấu rất hay ở những giải đấu World Cup gần đây FIVE&SIX Người hâm mộ Việt Nam sẽ được xem các trận đấu của Trần Quyết Chiến và các tay cơ khác của Việt Nam thi đấu ở giải Seoul World Cup 2023 tại đường link  kênh chính thức của giải đấu với phần bình luận tiếng Việt của bình luận viên Minh Điền.\n"
     ]
    }
   ],
   "source": [
    "import re\n",
    "text = \"Tay cơ trẻ Chiêm Hồng Thái đang thi đấu rất hay ở những giải đấu World Cup gần đây FIVE&SIX Người hâm mộ Việt Nam sẽ được xem các trận đấu của Trần Quyết Chiến và các tay cơ khác của Việt Nam thi đấu ở giải Seoul World Cup 2023 tại đường link https://bj.afreecatv.com/0921388683, kênh chính thức của giải đấu với phần bình luận tiếng Việt của bình luận viên Minh Điền.\"\n",
    "\n",
    "text = re.sub(r'http\\S+', '', text)\n",
    "print(text)"
   ]
  },
  {
   "cell_type": "code",
   "execution_count": null,
   "metadata": {},
   "outputs": [],
   "source": [
    "import string\n",
    "\n",
    "def remove_punctuation_and_number(text):\n",
    "    text = re.sub(r\"[^a-zA-Z0-9àáảãạâầấẩẫậăằắẳẵặèéẻẽẹêềếểễệđìíỉĩịòóỏõọôồốổỗộơờớởỡợùúủũụưừứửữựỳýỷỹỵÀÁẢÃẠÂẦẤẨẪẬĂẰẮẲẴẶÈÉẺẼẸÊỀẾỂỄỆĐÌÍỈĨỊÒÓỎÕỌÔỒỐỔỖỘƠỜỚỞỠỢÙÚỦŨỤƯỪỨỬỮỰỲÝỶỸỴÂĂĐÔƠƯ]\", \" \", text)\n",
    "    text = re.sub(r'\\s+', \" \", text)\n",
    "    text = text.replace(\"nlđo\", \"\").strip(\" \")\n",
    "    text = text.replace(\"NLĐO\", \"\").strip(\" \")\n",
    "    return text"
   ]
  },
  {
   "cell_type": "code",
   "execution_count": 2,
   "metadata": {},
   "outputs": [
    {
     "name": "stdout",
     "output_type": "stream",
     "text": [
      "dict_keys(['bozo', 'entries', 'feed', 'headers', 'href', 'status', 'encoding', 'version', 'namespaces'])\n"
     ]
    }
   ],
   "source": [
    "from pandas import json_normalize\n",
    "\n",
    "feed = feedparser.parse(\"https://tuoitre.vn/rss/the-thao.rss\")\n",
    "print(feed.keys())\n",
    "temp = json_normalize(feed.entries)"
   ]
  },
  {
   "cell_type": "code",
   "execution_count": 3,
   "metadata": {},
   "outputs": [
    {
     "name": "stdout",
     "output_type": "stream",
     "text": [
      "Index(['title', 'links', 'link', 'id', 'guidislink', 'summary', 'published',\n",
      "       'published_parsed', 'title_detail.type', 'title_detail.language',\n",
      "       'title_detail.base', 'title_detail.value', 'summary_detail.type',\n",
      "       'summary_detail.language', 'summary_detail.base',\n",
      "       'summary_detail.value'],\n",
      "      dtype='object')\n"
     ]
    }
   ],
   "source": [
    "print(temp.keys())"
   ]
  },
  {
   "cell_type": "code",
   "execution_count": 5,
   "metadata": {},
   "outputs": [
    {
     "data": {
      "text/plain": [
       "0    https://tuoitre.vn/lich-truc-tiep-vong-17-v-le...\n",
       "1    https://tuoitre.vn/tin-tuc-the-thao-sang-8-5-m...\n",
       "2    https://tuoitre.vn/lich-truc-tiep-champions-le...\n",
       "3    https://tuoitre.vn/6-lan-sut-bong-vao-khung-ca...\n",
       "4    https://tuoitre.vn/mbappe-nhan-loi-chay-dua-10...\n",
       "5    https://tuoitre.vn/giua-tin-don-nhay-cam-clb-h...\n",
       "6    https://tuoitre.vn/vff-van-dang-tim-hlv-truong...\n",
       "7    https://tuoitre.vn/fifa-lan-dau-tien-co-bang-x...\n",
       "8    https://tuoitre.vn/cau-thu-nhap-tich-dinh-hoan...\n",
       "9    https://tuoitre.vn/antony-xuc-pham-ten-hag-tro...\n",
       "Name: link, dtype: object"
      ]
     },
     "execution_count": 5,
     "metadata": {},
     "output_type": "execute_result"
    }
   ],
   "source": [
    "temp['link'][:10]"
   ]
  },
  {
   "cell_type": "code",
   "execution_count": 1,
   "metadata": {},
   "outputs": [],
   "source": [
    "from bs4 import BeautifulSoup\n",
    "from selenium import webdriver\n",
    "import time\n",
    "\n",
    "# Initialize WebDriver\n",
    "driver = webdriver.Chrome()  # You should replace this with the appropriate web driver you're using (Chrome, Firefox, etc.)\n",
    "\n",
    "# Open the URL of the webpage\n",
    "url = \"https://vnexpress.net/the-thao/marathon\"\n",
    "driver.get(url)\n",
    "\n",
    "# Automatically scroll the page\n",
    "scroll_pause_time = 4  # Pause between each scroll\n",
    "last_height = driver.execute_script(\"return document.body.scrollHeight\")  # Browser window height\n",
    "i = 1\n",
    "while True:\n",
    "    # Scroll down\n",
    "    driver.execute_script(f\"window.scrollTo(0, {last_height * i});\")\n",
    "    i += 1\n",
    "    time.sleep(scroll_pause_time)\n",
    "\n",
    "    # Check if reaching the end of the page\n",
    "    new_height = driver.execute_script(\"return document.body.scrollHeight\")\n",
    "    if new_height == last_height:\n",
    "        break\n",
    "    last_height = new_height\n",
    "\n",
    "# Fetch the data using BeautifulSoup after all data is loaded\n",
    "soup = BeautifulSoup(driver.page_source, \"html.parser\")\n",
    "# Process and save the data as needed\n",
    "\n",
    "# url = soup.find_all(\"a\", \"box-category-link-title\")\n",
    "url = soup.find_all(\"h2\", \"title-news\")\n",
    "\n",
    "# Close the WebDriver session\n",
    "driver.quit()"
   ]
  },
  {
   "cell_type": "code",
   "execution_count": 5,
   "metadata": {},
   "outputs": [
    {
     "name": "stdout",
     "output_type": "stream",
     "text": [
      "0.001\n"
     ]
    }
   ],
   "source": [
    "import math\n",
    "\n",
    "print(1e-3)"
   ]
  },
  {
   "cell_type": "code",
   "execution_count": 2,
   "metadata": {},
   "outputs": [
    {
     "name": "stdout",
     "output_type": "stream",
     "text": [
      "10\n"
     ]
    }
   ],
   "source": [
    "print(len(url))"
   ]
  },
  {
   "cell_type": "code",
   "execution_count": 3,
   "metadata": {},
   "outputs": [
    {
     "name": "stdout",
     "output_type": "stream",
     "text": [
      "https://vnexpress.net/kiptum-duoc-chon-cat-trong-khuon-vien-gia-dinh-4712799.html\n",
      "https://vnexpress.net/giai-chay-dem-tp-hcm-2024-ra-mat-ao-dau-ao-finisher-4712244.html\n",
      "https://vnexpress.net/runner-tap-chay-dai-the-nao-cho-cu-ly-half-marathon-4712502.html\n",
      "https://vnexpress.net/khoanh-khac-truoc-khi-kiptum-tu-nan-4712354.html\n",
      "https://vnexpress.net/nhung-cai-chet-gay-chan-dong-dien-kinh-kenya-4711601.html\n",
      "https://vnexpress.net/bon-cu-ly-giai-chay-dem-tp-hcm-2024-dat-chuan-quoc-te-4711677.html\n",
      "https://vnexpress.net/vnexpress-marathon-2024-uu-dai-15-dip-nam-moi-4711671.html\n",
      "https://vnexpress.net/bat-4-ke-la-mat-tim-kiptum-truoc-vu-tai-nan-4711781.html\n",
      "https://vnexpress.net/tang-le-kiptum-dien-ra-ngay-24-2-4711694.html\n",
      "https://vnexpress.net/kiptum-da-thang-tien-nhanh-the-nao-4711536.html\n"
     ]
    }
   ],
   "source": [
    "for i in url:\n",
    "    print(i.find(\"a\")[\"href\"])"
   ]
  },
  {
   "cell_type": "code",
   "execution_count": 4,
   "metadata": {},
   "outputs": [],
   "source": [
    "def get_news_content(url, tag, tag_class):\n",
    "    \n",
    "    result = \"\"\n",
    "    res = requests.get(url)\n",
    "    soup = BeautifulSoup(res.content, \"html.parser\")\n",
    "    div = soup.find(tag, tag_class)\n",
    "    if div is None:\n",
    "        return \"\"\n",
    "    texts = div.find_all(\"p\")\n",
    "    for text in texts:\n",
    "        result += \" \" + text.get_text()\n",
    "        \n",
    "    return result"
   ]
  },
  {
   "cell_type": "code",
   "execution_count": null,
   "metadata": {},
   "outputs": [],
   "source": [
    "news_urls = soup.find_all(\"a\", \"box-category-link-title\")\n",
    "for news_url in news_urls:\n",
    "    print(f\"https://thanhnien.vn{news_url['href']}\")\n",
    "    try:\n",
    "        print(len(get_news_content(f\"https://thanhnien.vn{news_url['href']}\", \"div\", \"detail-content\")))\n",
    "    except:\n",
    "        continue"
   ]
  },
  {
   "cell_type": "code",
   "execution_count": null,
   "metadata": {},
   "outputs": [],
   "source": [
    "res = requests.get(\"https://thanhnien.vn/768-vdv-tranh-tai-dua-thuyen-rong-tren-song-da-rang-185240216131928052.htm\")\n",
    "soup = BeautifulSoup(res.content, \"html.parser\")"
   ]
  },
  {
   "cell_type": "code",
   "execution_count": null,
   "metadata": {},
   "outputs": [],
   "source": [
    "div = soup.find(\"div\", \"detail-content\")\n",
    "texts = div.find_all(\"p\")\n",
    "for text in texts:\n",
    "    print(text.get_text())"
   ]
  },
  {
   "cell_type": "code",
   "execution_count": 1,
   "metadata": {},
   "outputs": [],
   "source": [
    "from transformers import AutoTokenizer, AutoModelForSeq2SeqLM\n",
    "\n",
    "# model2 = AutoModelForSeq2SeqLM.from_pretrained(\"../2nd/checkpoint-16500\")\n",
    "# model1 = AutoModelForSeq2SeqLM.from_pretrained(\"../1st/checkpoint-16500\")\n",
    "tokenizer = AutoTokenizer.from_pretrained(\"VietAI/vit5-base\")"
   ]
  },
  {
   "cell_type": "code",
   "execution_count": 9,
   "metadata": {},
   "outputs": [
    {
     "name": "stdout",
     "output_type": "stream",
     "text": [
      "{'input_ids': tensor([[ 1324, 12253,  2273,    47,  1199,     1]]), 'attention_mask': tensor([[1, 1, 1, 1, 1, 1]])}\n",
      "{'input_ids': tensor([[1324, 3307,  482,  595,    1]]), 'attention_mask': tensor([[1, 1, 1, 1, 1]])}\n",
      "['▁xin', '▁chao', '▁the', '▁gi', 'oi', '</s>']\n",
      "['▁xin', '▁chào', '▁thế', '▁giới', '</s>']\n"
     ]
    }
   ],
   "source": [
    "text1 = \"xin chao the gioi\"\n",
    "text2 = \"xin chào thế giới\"\n",
    "encoding1 = tokenizer(text1, return_tensors=\"pt\")\n",
    "encoding2 = tokenizer(text2, return_tensors=\"pt\")\n",
    "print(encoding1)\n",
    "print(encoding2)\n",
    "for i in encoding1[\"input_ids\"]:\n",
    "    print(tokenizer.convert_ids_to_tokens(i))\n",
    "    \n",
    "for i in encoding2[\"input_ids\"]:\n",
    "    print(tokenizer.convert_ids_to_tokens(i))"
   ]
  },
  {
   "cell_type": "code",
   "execution_count": 22,
   "metadata": {},
   "outputs": [
    {
     "name": "stdout",
     "output_type": "stream",
     "text": [
      "Trong nhieu nam, Clark cung da ba lan lap ky luc the gioi voi thanh tich nguoi chay nhanh nhat bang tay (20m trong 4,78 giay); nguoi thuc hien dong tac nhay qua chiec hop (box jump) cao nhat bang tay (33 inch, khoang 0,84m) va nguoi co so lan hit dat kim cuong (diamond push up) nhieu nhat trong ba phut (248 cai).\n",
      "Out put 1: Trong nhiều năm Clark cũng đã ba lần lập kỷ lục thế giới với thành tích người chạy nhanh nhất bằng tay (20m trong 4,78 giây); người thực hiện động tác nhảy qua chiếc hộp (box jump) cao nhất bằng tay (33 inch khoảng 0,84m) và người có số lần hít đất kim cương (diamond push up) nhiều nhất trong ba phút (248 cái)\n",
      "Out put 2: Trong nhiều năm Clark cũng đã ba lần lập kỷ lục thế giới với thành tích người chạy nhanh nhất bằng tay và20m trong 4,78 giây và; người thực hiện động tác nhảy qua chiếc hộp (box jump) cao nhất bằng tay (33 inch và người có số lần hít đất kim cương (diamond push up) nhiều nhất trong ba phút\n"
     ]
    }
   ],
   "source": [
    "from unidecode import unidecode\n",
    "\n",
    "sentence = unidecode(input())\n",
    "print(sentence)\n",
    "# sentence = input()\n",
    "# text =  sentence + \" </s>\"\n",
    "encoding = tokenizer(sentence, return_tensors=\"pt\")\n",
    "# print(encoding[\"input_ids\"])\n",
    "input_ids, attention_masks = encoding[\"input_ids\"], encoding[\"attention_mask\"]\n",
    "outputs1 = model1.generate(\n",
    "    input_ids=input_ids, attention_mask=attention_masks,\n",
    "    max_length=1024,\n",
    ")\n",
    "for output in outputs1:\n",
    "    line = tokenizer.decode(output, skip_special_tokens=True, clean_up_tokenization_spaces=True)\n",
    "    print(f\"Out put 1: {line}\")\n",
    "    \n",
    "outputs2 = model2.generate(\n",
    "    input_ids=input_ids, attention_mask=attention_masks,\n",
    "    max_length=1024,\n",
    ")\n",
    "for output in outputs2:\n",
    "    line = tokenizer.decode(output, skip_special_tokens=True, clean_up_tokenization_spaces=True)\n",
    "    print(f\"Out put 2: {line}\")"
   ]
  },
  {
   "cell_type": "code",
   "execution_count": 1,
   "metadata": {},
   "outputs": [],
   "source": [
    "import pandas as pd\n",
    "cols = [\"Step\", \"Training Loss\", \"Validation Loss\"]\n",
    "\n",
    "data = [\n",
    "    [500,0.173600,0.333745],\n",
    "    [1000,0.285800,0.249776],\n",
    "    [1500,0.244800,0.188853],\n",
    "    [2000,0.224000,0.167762],\n",
    "    [2500,0.207500,0.149103],\n",
    "    [3000,0.186000,0.121141],\n",
    "    [3500,0.172300,0.120915],\n",
    "    [4000,0.162000,0.106918],\n",
    "    [4500,0.150600,0.101390],\n",
    "    [5000,0.147000,0.108727],\n",
    "    [5500,0.139700,0.091916],\n",
    "    [6000,0.137100,0.085097],\n",
    "    [6500,0.129500,0.080089],\n",
    "    [7000,0.122000,0.090790],\n",
    "    [7500,0.122600,0.081990],\n",
    "    [8000,0.115100,0.081483],\n",
    "    [8500,0.113200,0.074989],\n",
    "    [9000,0.098400,0.069219],\n",
    "    [9500,0.096500,0.072956],\n",
    "    [10000,0.093800,0.067132],\n",
    "    [10500,0.091500,0.068521],\n",
    "    [11000,0.089900,0.062228],\n",
    "    [11500,0.086300,0.063181],\n",
    "    [12000,0.089900,0.057392],\n",
    "    [12500,0.082100,0.055440],\n",
    "    [13000,0.084700,0.054643],\n",
    "    [13500,0.080500,0.051273],\n",
    "    [14000,0.079600,0.052723],\n",
    "    [14500,0.074400,0.048287],\n",
    "    [15000,0.074500,0.046628],\n",
    "    [15500,0.074100,0.050308],\n",
    "    [16000,0.070300,0.044750],\n",
    "    [16500,0.072600,0.045814],\n",
    "    [17000,0.066600,0.041980],\n",
    "    [17500,0.054500,0.043040],\n",
    "    [18000,0.053100,0.044721],\n",
    "    [18500,0.053400,0.043939],\n",
    "    [19000,0.052900,0.042477],\n",
    "    [19500,0.049700,0.041392],\n",
    "    [20000,0.049700,0.041819],\n",
    "    [20500,0.047400,0.037105],\n",
    "    [21000,0.048700,0.038287],\n",
    "    [21500,0.046900,0.036962],\n",
    "    [22000,0.044900,0.038496],\n",
    "    [22500,0.045200,0.037152],\n",
    "    [23000,0.043500,0.034399],\n",
    "    [23500,0.044800,0.033696],\n",
    "    [24000,0.041400,0.033624],\n",
    "    [24500,0.042100,0.033466],\n",
    "    [25000,0.040600,0.032269],\n",
    "    [25500,0.040300,0.031572],\n",
    "    [26000,0.028900,0.034227],\n",
    "    [26500,0.026900,0.032331],\n",
    "    [27000,0.026600,0.032925],\n",
    "    [27500,0.026400,0.032328],\n",
    "    [28000,0.025800,0.030178],\n",
    "    [28500,0.024900,0.030631],\n",
    "    [29000,0.025200,0.028536],\n",
    "    [29500,0.024600,0.028482],\n",
    "    [30000,0.023400,0.027959],\n",
    "    [30500,0.022700,0.027290],\n",
    "    [31000,0.022100,0.026818],\n",
    "    [31500,0.021400,0.026622],\n",
    "    [32000,0.020200,0.026806],\n",
    "    [32500,0.020500,0.026096],\n",
    "    [33000,0.021100,0.026410],\n",
    "    [33500,0.021200,0.025516],\n",
    "    [34000,0.019400,0.025482],\n",
    "]\n",
    "\n",
    "df = pd.DataFrame(data, columns=cols)"
   ]
  },
  {
   "cell_type": "code",
   "execution_count": 2,
   "metadata": {},
   "outputs": [
    {
     "data": {
      "image/png": "[encoded data removed]",
      "text/plain": [
       "<Figure size 640x480 with 1 Axes>"
      ]
     },
     "metadata": {},
     "output_type": "display_data"
    }
   ],
   "source": [
    "import seaborn as sns\n",
    "import matplotlib.pyplot as plt\n",
    "\n",
    "# Lấy dữ liệu training loss và validation loss\n",
    "train_loss = df[\"Training Loss\"]\n",
    "val_loss = df[\"Validation Loss\"]\n",
    "\n",
    "# Vẽ biểu đồ\n",
    "sns.lineplot(x=\"Step\", y=\"Training Loss\", data=df, label=\"Training loss\")\n",
    "sns.lineplot(x=\"Step\", y=\"Validation Loss\", data=df, label=\"Validation loss\")\n",
    "\n",
    "# Thêm tiêu đề và chú thích\n",
    "plt.title(\"Loss Curves\")\n",
    "plt.xlabel(\"Steps\")\n",
    "plt.ylabel(\"Loss value\")\n",
    "plt.legend()\n",
    "\n",
    "# Hiển thị biểu đồ\n",
    "plt.show()\n"
   ]
  }
 ],
 "metadata": {
  "kernelspec": {
   "display_name": "vm",
   "language": "python",
   "name": "python3"
  },
  "language_info": {
   "codemirror_mode": {
    "name": "ipython",
    "version": 3
   },
   "file_extension": ".py",
   "mimetype": "text/x-python",
   "name": "python",
   "nbconvert_exporter": "python",
   "pygments_lexer": "ipython3",
   "version": "3.11.0"
  }
 },
 "nbformat": 4,
 "nbformat_minor": 2
}
